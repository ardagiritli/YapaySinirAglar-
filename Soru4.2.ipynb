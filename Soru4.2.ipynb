{
  "nbformat": 4,
  "nbformat_minor": 0,
  "metadata": {
    "colab": {
      "provenance": []
    },
    "kernelspec": {
      "name": "python3",
      "display_name": "Python 3"
    },
    "language_info": {
      "name": "python"
    }
  },
  "cells": [
    {
      "cell_type": "code",
      "source": [
        "import torch\n",
        "import torch.nn as nn\n",
        "torch.manual_seed(180401014)\n",
        "\n",
        "x = ([[1, 2, 3], [4, 5, 6]])\n",
        "\n",
        "tensorx = torch.tensor(x,dtype=torch.float32)\n",
        "a = tensorx.view(1,6)\n",
        "\n",
        "def fsigmoid(x):\n",
        "\n",
        "  return 1 / (1 + torch.exp(-x))\n",
        "\n",
        "def ftanh(x):\n",
        "  return (torch.exp(x) - torch.exp(-x)) / (torch.exp(x) + torch.exp(-x))\n",
        "\n",
        "class MyModel(nn.Module):  \n",
        "\n",
        "    def __init__(self):\n",
        "        super(MyModel, self).__init__()\n",
        "        self.hidden = nn.Linear(2*3, 50)\n",
        "        self.output = nn.Linear(50, 1)\n",
        "\n",
        "    def forward(self, x):\n",
        "        x = ftanh(self.hidden(x))\n",
        "        x = fsigmoid(self.output(x))\n",
        "        return x\n",
        "\n",
        "b = MyModel()\n",
        "output = b(a)\n",
        "output\n",
        "\n",
        "\n"
      ],
      "metadata": {
        "colab": {
          "base_uri": "https://localhost:8080/"
        },
        "id": "zFWcQ5bAd61v",
        "outputId": "e448c719-a56f-4299-a736-10c7db8fc3e5"
      },
      "execution_count": 105,
      "outputs": [
        {
          "output_type": "execute_result",
          "data": {
            "text/plain": [
              "tensor([[0.5932]], grad_fn=<MulBackward0>)"
            ]
          },
          "metadata": {},
          "execution_count": 105
        }
      ]
    }
  ]
}